{
 "metadata": {
  "name": "",
  "signature": "sha256:4944eaa369d9f61c753b68b5fd5d6125d6e73837f315109d47e737be91b9ae9f"
 },
 "nbformat": 3,
 "nbformat_minor": 0,
 "worksheets": [
  {
   "cells": [
    {
     "cell_type": "code",
     "collapsed": false,
     "input": [
      "from __future__ import division\n",
      "import re"
     ],
     "language": "python",
     "metadata": {},
     "outputs": [],
     "prompt_number": 7
    },
    {
     "cell_type": "code",
     "collapsed": false,
     "input": [
      "import pandas as pd"
     ],
     "language": "python",
     "metadata": {},
     "outputs": [],
     "prompt_number": 2
    },
    {
     "cell_type": "code",
     "collapsed": false,
     "input": [
      "import numpy as np"
     ],
     "language": "python",
     "metadata": {},
     "outputs": [],
     "prompt_number": 3
    },
    {
     "cell_type": "code",
     "collapsed": false,
     "input": [
      "import scipy as sp"
     ],
     "language": "python",
     "metadata": {},
     "outputs": [],
     "prompt_number": 4
    },
    {
     "cell_type": "code",
     "collapsed": false,
     "input": [
      "import Bio "
     ],
     "language": "python",
     "metadata": {},
     "outputs": [],
     "prompt_number": 5
    },
    {
     "cell_type": "code",
     "collapsed": false,
     "input": [
      "import matplotlib.pyplot as plt\n",
      "%matplotlib inline"
     ],
     "language": "python",
     "metadata": {},
     "outputs": [],
     "prompt_number": 6
    },
    {
     "cell_type": "heading",
     "level": 2,
     "metadata": {},
     "source": [
      "Chapter 2 Exercises "
     ]
    },
    {
     "cell_type": "code",
     "collapsed": false,
     "input": [
      "my_dna = 'ACTGATCGATTACGTATAGTATTTGCTATCATACATATATATCGATGCGTTCAT'"
     ],
     "language": "python",
     "metadata": {},
     "outputs": [],
     "prompt_number": 10
    },
    {
     "cell_type": "heading",
     "level": 4,
     "metadata": {},
     "source": [
      "Calculate the AT content"
     ]
    },
    {
     "cell_type": "code",
     "collapsed": false,
     "input": [
      "# Calculate the AT content\n",
      "#Determines the length of DNA\n",
      "dna_length = len(my_dna)\n",
      "\n",
      "#Counts the A's in DNA \n",
      "a_count = my_dna.count('A')\n",
      "\n",
      "#Counts the T's in DNA\n",
      "t_count = my_dna.count('T')\n",
      "\n",
      "#Adds A's and T's and divides by DNA length\n",
      "at_content = (a_count + t_count) / dna_length\n",
      "print round(at_content, 3)"
     ],
     "language": "python",
     "metadata": {},
     "outputs": [
      {
       "output_type": "stream",
       "stream": "stdout",
       "text": [
        "0.685\n"
       ]
      }
     ],
     "prompt_number": 11
    },
    {
     "cell_type": "code",
     "collapsed": false,
     "input": [
      "# Wrote the code above inside a function to automate the process\n",
      "def at_content(x):\n",
      "    x_lower = x.lower()\n",
      "    a_x = x_lower.count('a')\n",
      "    t_x = x_lower.count('t')\n",
      "    at = (a_x + t_x)/ (len(x))\n",
      "    return round(at, 2)"
     ],
     "language": "python",
     "metadata": {},
     "outputs": [],
     "prompt_number": 12
    },
    {
     "cell_type": "code",
     "collapsed": false,
     "input": [
      "at_content(my_dna)"
     ],
     "language": "python",
     "metadata": {},
     "outputs": [
      {
       "metadata": {},
       "output_type": "pyout",
       "prompt_number": 13,
       "text": [
        "0.69"
       ]
      }
     ],
     "prompt_number": 13
    },
    {
     "cell_type": "heading",
     "level": 4,
     "metadata": {},
     "source": [
      "Complementing DNA"
     ]
    },
    {
     "cell_type": "code",
     "collapsed": false,
     "input": [
      "# Have to replace each base in a sequential order and differentiate the original bases from the replaces bases\n",
      "# Did this by replacing upper case original bases with lower case bases\n",
      "\n",
      "#Replace A with t\n",
      "dna1 = my_dna.replace('A','t')\n",
      "\n",
      "#Replace T with a\n",
      "dna2 = dna1.replace('T','a')\n",
      "\n",
      "#Replace C with g\n",
      "dna3 = dna2.replace('C','g')\n",
      "\n",
      "#Replace G with c\n",
      "dna4 = dna3.replace('G','c')\n",
      "\n",
      "#Upper case the last step\n",
      "dna_comp = dna4.upper()\n",
      "print(my_dna)\n",
      "print(dna_comp)"
     ],
     "language": "python",
     "metadata": {},
     "outputs": [
      {
       "output_type": "stream",
       "stream": "stdout",
       "text": [
        "ACTGATCGATTACGTATAGTATTTGCTATCATACATATATATCGATGCGTTCAT\n",
        "TGACTAGCTAATGCATATCATAAACGATAGTATGTATATATAGCTACGCAAGTA\n"
       ]
      }
     ],
     "prompt_number": 12
    },
    {
     "cell_type": "code",
     "collapsed": false,
     "input": [
      "# Defined a function to automate complementing DNA code\n",
      "def dna_complement(x):\n",
      "    y = x.upper()\n",
      "    y_a = y.replace('A','t')\n",
      "    y_t = y_a.replace('T','a')\n",
      "    y_c = y_t.replace('C','g')\n",
      "    y_g = y_c.replace('G','c')\n",
      "    x_comp = y_g.upper()\n",
      "    return x_comp"
     ],
     "language": "python",
     "metadata": {},
     "outputs": [],
     "prompt_number": 20
    },
    {
     "cell_type": "code",
     "collapsed": false,
     "input": [
      "print(my_dna)\n",
      "print(dna_complement(my_dna))"
     ],
     "language": "python",
     "metadata": {},
     "outputs": [
      {
       "output_type": "stream",
       "stream": "stdout",
       "text": [
        "ACTGATCGATTACGTATAGTATTTGCTATCATACATATATATCGATGCGTTCAT\n",
        "TGACTAGCTAATGCATATCATAAACGATAGTATGTATATATAGCTACGCAAGTA\n"
       ]
      }
     ],
     "prompt_number": 21
    },
    {
     "cell_type": "heading",
     "level": 4,
     "metadata": {},
     "source": [
      "Restriction Fragment Lengths"
     ]
    },
    {
     "cell_type": "code",
     "collapsed": false,
     "input": [
      "# EcoRI cuts at G*AATTC\n",
      "my_dna = ('ACTGATCGATTACGTATAGTAGAATTCTATCATACATATATATCGATGCGTTCAT')"
     ],
     "language": "python",
     "metadata": {},
     "outputs": [],
     "prompt_number": 15
    },
    {
     "cell_type": "code",
     "collapsed": false,
     "input": [
      "#EcoRI restriction enzyme site\n",
      "EcoRI = 'GAATTC'\n",
      "\n",
      "#This determines the position of EcoRI restriction in DNA sequence\n",
      "eco_loc = my_dna.find(EcoRI)\n",
      "\n",
      "#Extract the first fragment after EcoRI restrition in sequence\n",
      "#Added 1 to position of EcoRI because cut occurs at G*AATTC so find GAATTC will hive position of G we need 1+ position\n",
      "fragment1 = my_dna[0:(eco_loc + 1)]\n",
      "fragment2 = my_dna[(eco_loc +1):]\n",
      "\n",
      "#len gives length of fragment\n",
      "print('Fragment 1 length is ' + str(len(fragment1)))\n",
      "print('Fragment 2 length is ' + str(len(fragment2)))"
     ],
     "language": "python",
     "metadata": {},
     "outputs": [
      {
       "output_type": "stream",
       "stream": "stdout",
       "text": [
        "Fragment 1 length is 22\n",
        "Fragment 2 length is 33\n"
       ]
      }
     ],
     "prompt_number": 16
    },
    {
     "cell_type": "code",
     "collapsed": false,
     "input": [
      "def eco_restriction(x):\n",
      "    EcoRI = 'GAATTC'\n",
      "    eco_loc = x.find(EcoRI)\n",
      "    fragment1 = x[0:(eco_loc +1)]\n",
      "    fragment2 = x[(eco_loc +1):]\n",
      "    length1 = len(fragment1)\n",
      "    length2 = len(fragment2)\n",
      "    print('Fragment 1 is ' + fragment1 + ' with a length of ' + str(length1) + ' bases')\n",
      "    print('Fragment 2 is ' + fragment2 + ' with a length of ' + str(length2) + ' bases')"
     ],
     "language": "python",
     "metadata": {},
     "outputs": [],
     "prompt_number": 17
    },
    {
     "cell_type": "code",
     "collapsed": false,
     "input": [
      "eco_restriction(my_dna)"
     ],
     "language": "python",
     "metadata": {},
     "outputs": [
      {
       "output_type": "stream",
       "stream": "stdout",
       "text": [
        "Fragment 1 is ACTGATCGATTACGTATAGTAG with a length of 22 bases\n",
        "Fragment 2 is AATTCTATCATACATATATATCGATGCGTTCAT with a length of 33 bases\n"
       ]
      }
     ],
     "prompt_number": 18
    },
    {
     "cell_type": "heading",
     "level": 4,
     "metadata": {},
     "source": [
      "Splicing Out Introns"
     ]
    },
    {
     "cell_type": "code",
     "collapsed": false,
     "input": [
      "genomic_dna = 'ATCGATCGATCGATCGACTGACTAGTCATAGCTATGCATGTAGCTACTCGATCGATCGA\\\n",
      "TCGATCGATCGATCGATCGATCGATCATGCTATCATCGATCGATATCGATGCATCGACTACTAT'\n",
      "#The Genomic DNA has 2 exons and 1 intron\n",
      "#Exon 1 runs from start of sequence to 63rd character\n",
      "#Exon 2 runs from 91st character to end of sequence"
     ],
     "language": "python",
     "metadata": {},
     "outputs": [],
     "prompt_number": 19
    },
    {
     "cell_type": "code",
     "collapsed": false,
     "input": [
      "print(len(genomic_dna))"
     ],
     "language": "python",
     "metadata": {},
     "outputs": [
      {
       "output_type": "stream",
       "stream": "stdout",
       "text": [
        "123\n"
       ]
      }
     ],
     "prompt_number": 20
    },
    {
     "cell_type": "code",
     "collapsed": false,
     "input": [
      "#The intron from the genomic DNA is from position 63 to position 90\n",
      "intron = genomic_dna[63:90]\n",
      "print(intron)\n",
      "len(intron)"
     ],
     "language": "python",
     "metadata": {},
     "outputs": [
      {
       "output_type": "stream",
       "stream": "stdout",
       "text": [
        "TCGATCGATCGATCGATCGATCATGCT\n"
       ]
      },
      {
       "metadata": {},
       "output_type": "pyout",
       "prompt_number": 21,
       "text": [
        "27"
       ]
      }
     ],
     "prompt_number": 21
    },
    {
     "cell_type": "code",
     "collapsed": false,
     "input": [
      "#Exon 1 is from start [0] to position 62\n",
      "#Exon 2 is from position 90 to end\n",
      "coding_dna = genomic_dna[0:63] + genomic_dna[90:]\n",
      "print(coding_dna)\n",
      "len(coding_dna)"
     ],
     "language": "python",
     "metadata": {},
     "outputs": [
      {
       "output_type": "stream",
       "stream": "stdout",
       "text": [
        "ATCGATCGATCGATCGACTGACTAGTCATAGCTATGCATGTAGCTACTCGATCGATCGATCGAATCATCGATCGATATCGATGCATCGACTACTAT\n"
       ]
      },
      {
       "metadata": {},
       "output_type": "pyout",
       "prompt_number": 22,
       "text": [
        "96"
       ]
      }
     ],
     "prompt_number": 22
    },
    {
     "cell_type": "code",
     "collapsed": false,
     "input": [
      "#Calculate the coding percent \n",
      "coding_percent = 100 * len(coding_dna) / len(genomic_dna)\n",
      "coding_percent"
     ],
     "language": "python",
     "metadata": {},
     "outputs": [
      {
       "metadata": {},
       "output_type": "pyout",
       "prompt_number": 23,
       "text": [
        "78.04878048780488"
       ]
      }
     ],
     "prompt_number": 23
    },
    {
     "cell_type": "code",
     "collapsed": false,
     "input": [
      "g_dna = genomic_dna.replace(intron, intron.lower())\n",
      "print(genomic_dna)\n",
      "print(g_dna)"
     ],
     "language": "python",
     "metadata": {},
     "outputs": [
      {
       "output_type": "stream",
       "stream": "stdout",
       "text": [
        "ATCGATCGATCGATCGACTGACTAGTCATAGCTATGCATGTAGCTACTCGATCGATCGATCGATCGATCGATCGATCGATCGATCATGCTATCATCGATCGATATCGATGCATCGACTACTAT\n",
        "ATCGATCGATCGATCGACTGACTAGTCATAGCTATGCATGTAGCTACTCGATCGATCGATCGAtcgatcgatcgatcgatcgatcatgctATCATCGATCGATATCGATGCATCGACTACTAT\n"
       ]
      }
     ],
     "prompt_number": 24
    },
    {
     "cell_type": "code",
     "collapsed": false,
     "input": [
      "#Another solution \n",
      "exon1 = genomic_dna[0:63]\n",
      "exon2 = genomic_dna[90:]\n",
      "print(exon1 + exon2)\n",
      "print(len(exon1) + len(exon2))"
     ],
     "language": "python",
     "metadata": {},
     "outputs": [
      {
       "output_type": "stream",
       "stream": "stdout",
       "text": [
        "ATCGATCGATCGATCGACTGACTAGTCATAGCTATGCATGTAGCTACTCGATCGATCGATCGAATCATCGATCGATATCGATGCATCGACTACTAT\n",
        "96\n"
       ]
      }
     ],
     "prompt_number": 25
    },
    {
     "cell_type": "code",
     "collapsed": false,
     "input": [
      "print(exon1 + intron.lower() + exon2)"
     ],
     "language": "python",
     "metadata": {},
     "outputs": [
      {
       "output_type": "stream",
       "stream": "stdout",
       "text": [
        "ATCGATCGATCGATCGACTGACTAGTCATAGCTATGCATGTAGCTACTCGATCGATCGATCGAtcgatcgatcgatcgatcgatcatgctATCATCGATCGATATCGATGCATCGACTACTAT\n"
       ]
      }
     ],
     "prompt_number": 26
    },
    {
     "cell_type": "heading",
     "level": 2,
     "metadata": {},
     "source": [
      "Chapter 3 Exercises"
     ]
    },
    {
     "cell_type": "heading",
     "level": 4,
     "metadata": {},
     "source": [
      "Splitting Genomic DNA using a file and writing results to files"
     ]
    },
    {
     "cell_type": "code",
     "collapsed": false,
     "input": [
      "#File name\n",
      "gDNA_file_name = '/Users/xousaenhelu/Documents/LLU/Grad School/Books/python_for_biologists_bundle/\\\n",
      "python_for_biologists/exercises and examples/Chapter 3/exercises/genomic_dna.txt'\n",
      "\n",
      "#File object\n",
      "g_dna_file = open(gDNA_file_name)\n",
      "\n",
      "#File content\n",
      "genomic_dna = g_dna_file.read().rstrip('\\n')\n",
      "print(genomic_dna)\n",
      "g_dna_file.close()"
     ],
     "language": "python",
     "metadata": {},
     "outputs": [
      {
       "output_type": "stream",
       "stream": "stdout",
       "text": [
        "ATCGATCGATCGATCGACTGACTAGTCATAGCTATGCATGTAGCTACTCGATCGATCGATCGATCGATCGATCGATCGATCGATCATGCTATCATCGATCGATATCGATGCATCGACTACTAT\n"
       ]
      }
     ],
     "prompt_number": 27
    },
    {
     "cell_type": "code",
     "collapsed": false,
     "input": [
      "#Splitting Genomic DNA into introns and exons\n",
      "intron = genomic_dna[63:90]\n",
      "exon1 = genomic_dna[0:63]\n",
      "exon2 = genomic_dna[90:]\n",
      "\n",
      "#Opening the files for the Coding and Noncoding sequences\n",
      "coding_dna_file = open('/Users/xousaenhelu/Desktop/coding_dna.txt', 'w')\n",
      "coding_dna_file.write(exon1 + exon2)\n",
      "coding_dna_file.close\n",
      "noncoding_dna_file = open('/Users/xousaenhelu/Desktop/noncoding_dna.txt', 'w')\n",
      "noncoding_dna_file.write(intron)\n",
      "noncoding_dna_file.close()\n",
      "\n",
      "print(intron)\n",
      "print(exon1 + exon2)\n"
     ],
     "language": "python",
     "metadata": {},
     "outputs": [
      {
       "output_type": "stream",
       "stream": "stdout",
       "text": [
        "TCGATCGATCGATCGATCGATCATGCT\n",
        "ATCGATCGATCGATCGACTGACTAGTCATAGCTATGCATGTAGCTACTCGATCGATCGATCGAATCATCGATCGATATCGATGCATCGACTACTAT\n"
       ]
      }
     ],
     "prompt_number": 63
    },
    {
     "cell_type": "heading",
     "level": 4,
     "metadata": {},
     "source": [
      "Writing FASTA Files"
     ]
    },
    {
     "cell_type": "code",
     "collapsed": false,
     "input": [
      "#The header names and sequences we are going to write to the file sequences.fasta\n",
      "header_1 = 'ABC123'\n",
      "header_2 = 'DEF456'\n",
      "header_3 = 'HIJ789'\n",
      "\n",
      "sequence_1 = 'ATCGTACGATCGATCGATCGCTAGACGTATCG'\n",
      "sequence_2 = 'actgatcgacgatcgatcgatcacgact'\n",
      "sequence_3 = 'ACTGAC-ACTGT--ACTGTA----CATGTG'\n",
      "\n",
      "print(sequence_2)\n",
      "print(sequence_3)\n",
      "\n",
      "#FASTA sequences are in upper case and only contain ATGC\n",
      "#Make sequence 2 uppercase and removed - symbols from sequence 3\n",
      "sequence_2 = sequence_2.upper()\n",
      "sequence_3 = sequence_3.replace('-', '')\n",
      "\n",
      "print(sequence_2)\n",
      "print(sequence_3)"
     ],
     "language": "python",
     "metadata": {},
     "outputs": [
      {
       "output_type": "stream",
       "stream": "stdout",
       "text": [
        "actgatcgacgatcgatcgatcacgact\n",
        "ACTGAC-ACTGT--ACTGTA----CATGTG\n",
        "ACTGATCGACGATCGATCGATCACGACT\n",
        "ACTGACACTGTACTGTACATGTG\n"
       ]
      }
     ],
     "prompt_number": 64
    },
    {
     "cell_type": "code",
     "collapsed": false,
     "input": [
      "#This line creates a sequences.fasta file on the desktop\n",
      "output = open('/Users/xousaenhelu/Desktop/sequences.fasta', 'w')\n",
      "\n",
      "#Write the sequences in the file in this format \n",
      "# >sequence_one\n",
      "# ATCGATCGATCGATCGAT\n",
      "# >sequence_two\n",
      "# ACTAGCTAGCTAGCATCG\n",
      "# >sequence_three\n",
      "# ACTGCATCGATCGTACCT\n",
      "\n",
      "output.write('>' + header_1 + '\\n' + sequence_1 + '\\n')\n",
      "output.write('>' + header_2 + '\\n' + sequence_2 + '\\n')\n",
      "output.write('>' + header_1 + '\\n' + sequence_1 + '\\n')\n",
      "\n",
      "#Close file\n",
      "output.close()\n"
     ],
     "language": "python",
     "metadata": {},
     "outputs": [],
     "prompt_number": 65
    },
    {
     "cell_type": "heading",
     "level": 4,
     "metadata": {},
     "source": [
      "Writing Multiple FASTA Files"
     ]
    },
    {
     "cell_type": "code",
     "collapsed": false,
     "input": [
      "#Made a common file directory so I don't have to type it every time\n",
      "file_directory = '/Users/xousaenhelu/Desktop/'\n",
      "\n",
      "#Create the first file for first sequence\n",
      "output1 = open(file_directory + header_1 + '.fasta', 'w')\n",
      "\n",
      "#Write Header and sequence to file\n",
      "output1.write('>' + header_1 + '\\n' + sequence_1 + '\\n')\n",
      "\n",
      "# Close file\n",
      "output1.close()\n",
      "\n",
      "#Repeat steps for sequence 2 and 3\n",
      "output2 = open(file_directory + header_2 + '.fasta', 'w')\n",
      "output2.write('>' + header_2 + '\\n' + sequence_2 + '\\n')\n",
      "output2.close\n",
      "\n",
      "output3 = open(file_directory + header_3 + '.fasta', 'w')\n",
      "output3.write('>' + header_3 + '\\n' + sequence_3 + '\\n')\n",
      "output3.close()"
     ],
     "language": "python",
     "metadata": {},
     "outputs": [],
     "prompt_number": 66
    },
    {
     "cell_type": "code",
     "collapsed": false,
     "input": [
      "#Lets automate the process\n",
      "file_directory = '/Users/xousaenhelu/Desktop/'\n",
      "\n",
      "#Function take two arguments: the header = x and the sequence = y\n",
      "def write_fasta(x,y):\n",
      "    output = open(file_directory + x + '.fasta', 'w')\n",
      "    output.write('>' + x + '\\n' + y + '\\n')\n",
      "    output.close()"
     ],
     "language": "python",
     "metadata": {},
     "outputs": [],
     "prompt_number": 67
    },
    {
     "cell_type": "code",
     "collapsed": false,
     "input": [
      "write_fasta(header_1, sequence_1)\n",
      "write_fasta(header_2, sequence_2)\n",
      "write_fasta(header_3, sequence_3)"
     ],
     "language": "python",
     "metadata": {},
     "outputs": [],
     "prompt_number": 68
    },
    {
     "cell_type": "heading",
     "level": 2,
     "metadata": {},
     "source": [
      "Chapter 4 Exercises"
     ]
    },
    {
     "cell_type": "heading",
     "level": 4,
     "metadata": {},
     "source": [
      "Processing DNA in a File"
     ]
    },
    {
     "cell_type": "code",
     "collapsed": false,
     "input": [
      "# The input file contains a 5 sequences, they all have the same 14 base adapter at the beginning\n",
      "# Remove the adapter sequence and write the trimmed sequence in a new file\n",
      "\n",
      "# Open the input.txt file\n",
      "input_file = open('/Users/xousaenhelu/Documents/LLU/Grad School/Books/python_for_biologists_bundle/\\\n",
      "python_for_biologists/exercises and examples/Chapter 4/exercises/input.txt')\n",
      "\n",
      "# Create the new trimmed.txt file\n",
      "output = open('/Users/xousaenhelu/Desktop/trimmed.txt', 'w')\n",
      "\n",
      "# This loop will go through each line of the file input.txt\n",
      "# then removes the first 14 base pairs [0:14]\n",
      "# Write the trimmed DNA into trimmed.txt file\n",
      "# Print the lenght of the trimmed DNA\n",
      "for dna in input_file:\n",
      "    trimmed_dna = dna[14:]\n",
      "    output.write(trimmed_dna)\n",
      "    print('Processed sequence with length of ' + str(len(trimmed_dna)))\n",
      "output.close()\n",
      "input_file.close()"
     ],
     "language": "python",
     "metadata": {},
     "outputs": [
      {
       "output_type": "stream",
       "stream": "stdout",
       "text": [
        "Processed sequence with length of 43\n",
        "Processed sequence with length of 38\n",
        "Processed sequence with length of 49\n",
        "Processed sequence with length of 34\n",
        "Processed sequence with length of 48\n"
       ]
      }
     ],
     "prompt_number": 75
    },
    {
     "cell_type": "heading",
     "level": 4,
     "metadata": {},
     "source": [
      "Multiple Exons from Genomic DNA"
     ]
    },
    {
     "cell_type": "code",
     "collapsed": false,
     "input": [
      "genomic_dna = open(\"/Users/xousaenhelu/Documents/LLU/Grad School/Books/python_for_biologists_bundle/\\\n",
      "python_for_biologists/exercises and examples/Chapter 4/exercises/genomic_dna.txt\").read()\n",
      "\n",
      "\n",
      "exons_file = open('/Users/xousaenhelu/Documents/LLU/Grad School/Books/python_for_biologists_bundle/\\\n",
      "python_for_biologists/exercises and examples/Chapter 4/exercises/exons.txt')\n",
      "\n",
      "coding_seq = ''\n",
      "for line in exons_file:\n",
      "    positions = line.split(',')\n",
      "    start = int(positions[0])\n",
      "    stop = int(positions[1])\n",
      "    exon = genomic_dna[start:stop]\n",
      "    coding_seq += exon\n",
      "    \n",
      "output = open('/Users/xousaenhelu/Desktop/coding_sequence.txt', 'w')\n",
      "output.write(coding_seq)\n",
      "output.close()\n",
      "\n",
      "exons_file.close()"
     ],
     "language": "python",
     "metadata": {},
     "outputs": [],
     "prompt_number": 114
    },
    {
     "cell_type": "code",
     "collapsed": false,
     "input": [
      "exons = open('/Users/xousaenhelu/Documents/LLU/Grad School/Books/python_for_biologists_bundle/\\\n",
      "python_for_biologists/exercises and examples/Chapter 4/exercises/exons.txt').read()\n",
      "\n",
      "exons = exons.split('\\n')\n",
      "exons"
     ],
     "language": "python",
     "metadata": {},
     "outputs": [
      {
       "metadata": {},
       "output_type": "pyout",
       "prompt_number": 118,
       "text": [
        "['5,58', '72,133', '190,276', '340,398', '']"
       ]
      }
     ],
     "prompt_number": 118
    },
    {
     "cell_type": "heading",
     "level": 2,
     "metadata": {},
     "source": [
      "Chapter 5 Exercises"
     ]
    },
    {
     "cell_type": "code",
     "collapsed": false,
     "input": [
      "def at_content(dna, sig_figs=2):\n",
      "    length = len(dna)\n",
      "    a_count = dna.upper().count('A')\n",
      "    t_count = dna.upper().count('T')\n",
      "    at_dna = (a_count + t_count) / length\n",
      "    return round(at_dna, sig_figs)"
     ],
     "language": "python",
     "metadata": {},
     "outputs": [],
     "prompt_number": 34
    },
    {
     "cell_type": "code",
     "collapsed": false,
     "input": [
      "print(at_content(my_dna, 1))\n",
      "print(at_content(my_dna))\n",
      "print(at_content(my_dna, 3))"
     ],
     "language": "python",
     "metadata": {},
     "outputs": [
      {
       "output_type": "stream",
       "stream": "stdout",
       "text": [
        "0.7\n",
        "0.69\n",
        "0.685\n"
       ]
      }
     ],
     "prompt_number": 40
    },
    {
     "cell_type": "heading",
     "level": 4,
     "metadata": {},
     "source": [
      "Percent of Amino Acid Residues "
     ]
    },
    {
     "cell_type": "code",
     "collapsed": false,
     "input": [
      "# Function calculates percent of a specific amino acids in a protein sequence\n",
      "\n",
      "# funciton takes two arguments: protein sequence and an amino acid\n",
      "# Determine the length of the protein sequence\n",
      "# Determine the AA count in a sequence (uppercase), also uppercase the AA argument\n",
      "\n",
      "def aa_in_protein(protein, amino_acid_list=['A', 'I', 'L', 'M', 'F', 'W', 'Y','V']):\n",
      "    protein = protein.upper()\n",
      "    length = len(protein)\n",
      "    total = 0\n",
      "    for aa in amino_acid_list:\n",
      "        aa = aa.upper()\n",
      "        aa_count = protein.count(aa)\n",
      "        total += aa_count\n",
      "    aa_percent = 100 * total / length\n",
      "    return round(aa_percent, 3)\n",
      "\n",
      "assert aa_in_protein(\"MSRSLLLRFLLFLLLLPPLP\", \"M\") == 5\n",
      "assert aa_in_protein(\"MSRSLLLRFLLFLLLLPPLP\", \"r\") == 10\n",
      "assert aa_in_protein(\"MSRSLLLRFLLFLLLLPPLP\", \"L\") == 50\n",
      "assert aa_in_protein(\"MSRSLLLRFLLFLLLLPPLP\", \"Y\") == 0\n",
      "\n",
      "assert aa_in_protein(\"MSRSLLLRFLLFLLLLPPLP\", [\"M\"]) == 5\n",
      "assert aa_in_protein(\"MSRSLLLRFLLFLLLLPPLP\", ['M', 'L']) == 55\n",
      "assert aa_in_protein(\"MSRSLLLRFLLFLLLLPPLP\", ['F', 'S', 'L']) == 70\n",
      "assert aa_in_protein(\"MSRSLLLRFLLFLLLLPPLP\") == 65"
     ],
     "language": "python",
     "metadata": {},
     "outputs": [],
     "prompt_number": 63
    },
    {
     "cell_type": "heading",
     "level": 2,
     "metadata": {},
     "source": [
      "Chapter 6 Exercises"
     ]
    },
    {
     "cell_type": "code",
     "collapsed": false,
     "input": [
      "data = open('/Users/xousaenhelu/Documents/LLU/Grad School/Books/python_for_biologists_bundle/\\\n",
      "python_for_biologists/exercises and examples/Chapter 6/exercises/data.csv')\n",
      "data_content = data.read()\n",
      "print(data_content)"
     ],
     "language": "python",
     "metadata": {},
     "outputs": [
      {
       "output_type": "stream",
       "stream": "stdout",
       "text": [
        "Drosophila melanogaster,atatatatatcgcgtatatatacgactatatgcattaattatagcatatcgatatatatatcgatattatatcgcattatacgcgcgtaattatatcgcgtaattacga,kdy647,264\n",
        "Drosophila melanogaster,actgtgacgtgtactgtacgactatcgatacgtagtactgatcgctactgtaatgcatccatgctgacgtatctaagt,jdg766,185\n",
        "Drosophila simulans,atcgatcatgtcgatcgatgatgcatccgactatcgtcgatcgtgatcgatcgatcgatcatcgatcgatgtcgatcatgtcgatatcgt,kdy533,485\n",
        "Drosophila yakuba,cgcgcgctcgcgcatacggcctaatgcgcgcgctagcgatgc,hdt739,85\n",
        "Drosophila ananassae,ttacgatcgatcgatcgatcgatcgtcgatcgtcgatgctacatcgatcatcatcggattagtcacatcgatcgatcatcgactgatcgtcgatcgtagatgctgacatcgatagca,hdu045,356\n",
        "Drosophila ananassae,gcatcgatcgatcgcggcgcatcgatcgcgatcatcgatcatacgcgtcatatctatacgtcactgccgcgcgtatctacgcgatgactagctagact,teg436,222\n",
        "\n"
       ]
      }
     ],
     "prompt_number": 24
    },
    {
     "cell_type": "heading",
     "level": 4,
     "metadata": {},
     "source": [
      "Several Species"
     ]
    },
    {
     "cell_type": "code",
     "collapsed": false,
     "input": [
      "# Print the names for all genes belonging to Drosophila melanogaster or Drosophila simulans\n",
      "data = open('/Users/xousaenhelu/Documents/LLU/Grad School/Books/python_for_biologists_bundle/\\\n",
      "python_for_biologists/exercises and examples/Chapter 6/exercises/data.csv')\n",
      "\n",
      "for line in data:\n",
      "    columns = line.rstrip('\\n').split(',')\n",
      "    species = columns[0]\n",
      "    sequence = columns[1]\n",
      "    name = columns[2]\n",
      "    expression = columns[3]\n",
      "    \n",
      "    if species == 'Drosophila melanogaster' or species == 'Drosophila simulans':\n",
      "        print(name)\n",
      "        "
     ],
     "language": "python",
     "metadata": {},
     "outputs": [
      {
       "output_type": "stream",
       "stream": "stdout",
       "text": [
        "kdy647\n",
        "jdg766\n",
        "kdy533\n"
       ]
      }
     ],
     "prompt_number": 29
    },
    {
     "cell_type": "heading",
     "level": 4,
     "metadata": {},
     "source": [
      "Length Range"
     ]
    },
    {
     "cell_type": "code",
     "collapsed": false,
     "input": [
      "# Print out the gene names for all genes between 90 and 110 bases long.\n",
      "\n",
      "data = open('/Users/xousaenhelu/Documents/LLU/Grad School/Books/python_for_biologists_bundle/\\\n",
      "python_for_biologists/exercises and examples/Chapter 6/exercises/data.csv')\n",
      "\n",
      "for line in data:\n",
      "    columns = line.rstrip('\\n').split(',')\n",
      "    species = columns[0]\n",
      "    sequence = columns[1]\n",
      "    name = columns[2]\n",
      "    expression = columns[3]\n",
      "    \n",
      "    if len(sequence) > 90 and len(sequence) < 110:\n",
      "        print(name)"
     ],
     "language": "python",
     "metadata": {},
     "outputs": [
      {
       "output_type": "stream",
       "stream": "stdout",
       "text": [
        "kdy647\n",
        "teg436\n"
       ]
      }
     ],
     "prompt_number": 33
    },
    {
     "cell_type": "heading",
     "level": 4,
     "metadata": {},
     "source": [
      "AT Content"
     ]
    },
    {
     "cell_type": "code",
     "collapsed": false,
     "input": [
      "# Print out the gene names for all genes whose AT content is less than 0.5 and whose expression level is greater than 200\n",
      "\n",
      "data = open('/Users/xousaenhelu/Documents/LLU/Grad School/Books/python_for_biologists_bundle/\\\n",
      "python_for_biologists/exercises and examples/Chapter 6/exercises/data.csv')\n",
      "\n",
      "for line in data:\n",
      "    columns = line.rstrip('\\n').split(',')\n",
      "    species = columns[0]\n",
      "    sequence = columns[1]\n",
      "    name = columns[2]\n",
      "    expression = int(columns[3])\n",
      "    \n",
      "    \n",
      "    if at_content(sequence) < 0.5 and expression > 200:\n",
      "        print(name)"
     ],
     "language": "python",
     "metadata": {},
     "outputs": [
      {
       "output_type": "stream",
       "stream": "stdout",
       "text": [
        "teg436\n"
       ]
      }
     ],
     "prompt_number": 17
    },
    {
     "cell_type": "heading",
     "level": 4,
     "metadata": {},
     "source": [
      "Complex Condition"
     ]
    },
    {
     "cell_type": "code",
     "collapsed": false,
     "input": [
      "#Print out the gene names for all genes whose name begins with \"k\" or \"h\" \n",
      "# except those belonging to Drosophila melanogaster.\n",
      "\n",
      "data = open('/Users/xousaenhelu/Documents/LLU/Grad School/Books/python_for_biologists_bundle/\\\n",
      "python_for_biologists/exercises and examples/Chapter 6/exercises/data.csv')\n",
      "\n",
      "for line in data:\n",
      "    columns = line.rstrip('\\n').split(',')\n",
      "    species = columns[0]\n",
      "    sequence = columns[1]\n",
      "    name = columns[2]\n",
      "    expression = columns[3]\n",
      "    \n",
      "    if (name.startswith('k') or name.startswith('h'))  and species != 'Drosophila melanogaster':\n",
      "        print(name)"
     ],
     "language": "python",
     "metadata": {},
     "outputs": [
      {
       "output_type": "stream",
       "stream": "stdout",
       "text": [
        "kdy533\n",
        "hdt739\n",
        "hdu045\n"
       ]
      }
     ],
     "prompt_number": 18
    },
    {
     "cell_type": "heading",
     "level": 4,
     "metadata": {},
     "source": [
      "High Low Medium"
     ]
    },
    {
     "cell_type": "code",
     "collapsed": false,
     "input": [
      "#For each gene, print out a message giving the gene name and saying whether its AT content is high \n",
      "# (greater than 0.65), low (less than 0.45) or medium (between 0.45 and 0.65 inclusive).\n",
      "\n",
      "data = open('/Users/xousaenhelu/Documents/LLU/Grad School/Books/python_for_biologists_bundle/\\\n",
      "python_for_biologists/exercises and examples/Chapter 6/exercises/data.csv')\n",
      "\n",
      "for line in data:\n",
      "    columns = line.rstrip('\\n').split(',')\n",
      "    species = columns[0]\n",
      "    sequence = columns[1]\n",
      "    name = columns[2]\n",
      "    expression = columns[3]\n",
      "    \n",
      "    if at_content(sequence) > 0.65:\n",
      "        print(str(name) + ' has high AT content.')\n",
      "        \n",
      "    elif at_content(sequence) < 0.45:\n",
      "        print(str(name) + ' has low AT content.')\n",
      "    else:\n",
      "        print(name + ' has medium AT content.')"
     ],
     "language": "python",
     "metadata": {},
     "outputs": [
      {
       "output_type": "stream",
       "stream": "stdout",
       "text": [
        "kdy647 has high AT content.\n",
        "jdg766 has medium AT content.\n",
        "kdy533 has medium AT content.\n",
        "hdt739 has low AT content.\n",
        "hdu045 has medium AT content.\n",
        "teg436 has medium AT content.\n"
       ]
      }
     ],
     "prompt_number": 19
    },
    {
     "cell_type": "heading",
     "level": 2,
     "metadata": {},
     "source": [
      "Chapter 7 Exercises"
     ]
    },
    {
     "cell_type": "code",
     "collapsed": false,
     "input": [
      "import re"
     ],
     "language": "python",
     "metadata": {},
     "outputs": [],
     "prompt_number": 7
    },
    {
     "cell_type": "code",
     "collapsed": false,
     "input": [
      "dna = \"ATCGCGAATTCAC\"\n",
      "if re.search(r\"GAATTC\", dna):\n",
      "    print(\"restriction site found!\")"
     ],
     "language": "python",
     "metadata": {},
     "outputs": [
      {
       "output_type": "stream",
       "stream": "stdout",
       "text": [
        "restriction site found!\n"
       ]
      }
     ],
     "prompt_number": 23
    },
    {
     "cell_type": "code",
     "collapsed": false,
     "input": [
      "dna = \"ATCGCGAATTCAC\"\n",
      "if re.search(r\"GG(A|T)CC\", dna):\n",
      "    print(\"restriction site found!\")"
     ],
     "language": "python",
     "metadata": {},
     "outputs": [],
     "prompt_number": 30
    },
    {
     "cell_type": "code",
     "collapsed": false,
     "input": [
      "dna = \"ATGACGTACGTACGACTG\"\n",
      "# store the match object in the variable m\n",
      "m = re.search(r\"GA[ATGC]{3}AC\", dna)\n",
      "# call the group() method on the match object m\n",
      "print(m.group())"
     ],
     "language": "python",
     "metadata": {},
     "outputs": [
      {
       "output_type": "stream",
       "stream": "stdout",
       "text": [
        "GACGTAC\n"
       ]
      }
     ],
     "prompt_number": 31
    },
    {
     "cell_type": "code",
     "collapsed": false,
     "input": [
      "dna = \"ATGACGTACGTACGACTG\"\n",
      "# store the match object in the variable m\n",
      "m = re.search(r\"GA([ATGC]{3})AC([ATGC]{2})AC\", dna)\n",
      "print(\"entire match: \" + m.group())\n",
      "print(\"first bit: \" + m.group(1))\n",
      "print(\"second bit: \" + m.group(2))"
     ],
     "language": "python",
     "metadata": {},
     "outputs": [
      {
       "output_type": "stream",
       "stream": "stdout",
       "text": [
        "entire match: GACGTACGTAC\n",
        "first bit: CGT\n",
        "second bit: GT\n"
       ]
      }
     ],
     "prompt_number": 32
    },
    {
     "cell_type": "code",
     "collapsed": false,
     "input": [
      "dna = \"ATGACGTACGTACGACTG\"\n",
      "m = re.search(r\"GA([ATGC]{3})AC([ATGC]{2})AC\", dna)\n",
      "print(\"start: \" + str(m.start()))\n",
      "print(\"end: \" + str(m.end()))"
     ],
     "language": "python",
     "metadata": {},
     "outputs": [
      {
       "output_type": "stream",
       "stream": "stdout",
       "text": [
        "start: 2\n",
        "end: 13\n"
       ]
      }
     ],
     "prompt_number": 33
    },
    {
     "cell_type": "code",
     "collapsed": false,
     "input": [
      "dna = \"ATGACGTACGTACGACTG\"\n",
      "m = re.search(r\"GA([ATGC]{3})AC([ATGC]{2})AC\", dna)\n",
      "print(\"start: \" + str(m.start()))\n",
      "print(\"end: \" + str(m.end()))\n",
      "print(\"group one start: \" + str(m.start(1)))\n",
      "print(\"group one end: \" + str(m.end(1)))\n",
      "print(\"group two start: \" + str(m.start(2)))\n",
      "print(\"group two end: \" + str(m.end(2)))"
     ],
     "language": "python",
     "metadata": {},
     "outputs": [
      {
       "output_type": "stream",
       "stream": "stdout",
       "text": [
        "start: 2\n",
        "end: 13\n",
        "group one start: 4\n",
        "group one end: 7\n",
        "group two start: 9\n",
        "group two end: 11\n"
       ]
      }
     ],
     "prompt_number": 36
    },
    {
     "cell_type": "code",
     "collapsed": false,
     "input": [
      "dna = \"ACTNGCATRGCTACGTYACGATSCGAWTCG\"\n",
      "runs = re.split(r\"[^ATGC]\", dna)\n",
      "print(runs)"
     ],
     "language": "python",
     "metadata": {},
     "outputs": [
      {
       "output_type": "stream",
       "stream": "stdout",
       "text": [
        "['ACT', 'GCAT', 'GCTACGT', 'ACGAT', 'CGA', 'TCG']\n"
       ]
      }
     ],
     "prompt_number": 37
    },
    {
     "cell_type": "code",
     "collapsed": false,
     "input": [
      "dna = \"ACTGCATTATATCGTACGAAATTATACGCGCG\"\n",
      "runs = re.findall(r\"[AT]{5,100}\", dna)\n",
      "print(runs)"
     ],
     "language": "python",
     "metadata": {},
     "outputs": [
      {
       "output_type": "stream",
       "stream": "stdout",
       "text": [
        "['ATTATAT', 'AAATTATA']\n"
       ]
      }
     ],
     "prompt_number": 38
    },
    {
     "cell_type": "code",
     "collapsed": false,
     "input": [
      "dna = \"ACTGCATTATATCGTACGAAATTATACGCGCG\"\n",
      "runs = re.finditer(r\"[AT]{5,100}\", dna)\n",
      "for match in runs:\n",
      "    run_start = match.start()\n",
      "    run_end = match.end()\n",
      "    run_group = match.group()\n",
      "    print(\"AT rich region from \" + str(run_start) + \" to \" + str(run_end))\n",
      "    print('The matched region is: ' + run_group)"
     ],
     "language": "python",
     "metadata": {},
     "outputs": [
      {
       "output_type": "stream",
       "stream": "stdout",
       "text": [
        "AT rich region from 5 to 12\n",
        "The matched region is: ATTATAT\n",
        "AT rich region from 18 to 26\n",
        "The matched region is: AAATTATA\n"
       ]
      }
     ],
     "prompt_number": 41
    },
    {
     "cell_type": "heading",
     "level": 4,
     "metadata": {},
     "source": [
      "Accession Names"
     ]
    },
    {
     "cell_type": "code",
     "collapsed": false,
     "input": [
      "gene_names = ['xkn59438', 'yhdck2', 'eihd39d9', 'chdsye847', 'hedle3455', 'xjhd53e', '45da', 'de37dp']\n",
      "\n",
      "for name in gene_names:\n",
      "    if re.search(r'5', name):\n",
      "        print '\\t' + name\n",
      "   "
     ],
     "language": "python",
     "metadata": {},
     "outputs": [
      {
       "output_type": "stream",
       "stream": "stdout",
       "text": [
        "\txkn59438\n",
        "\thedle3455\n",
        "\txjhd53e\n",
        "\t45da\n"
       ]
      }
     ],
     "prompt_number": 100
    },
    {
     "cell_type": "code",
     "collapsed": false,
     "input": [
      "for name in gene_names:\n",
      "    if re.search(r'[de]', name):\n",
      "        print '\\t' + name"
     ],
     "language": "python",
     "metadata": {},
     "outputs": [
      {
       "output_type": "stream",
       "stream": "stdout",
       "text": [
        "\tyhdck2\n",
        "\teihd39d9\n",
        "\tchdsye847\n",
        "\thedle3455\n",
        "\txjhd53e\n",
        "\t45da\n",
        "\tde37dp\n"
       ]
      }
     ],
     "prompt_number": 65
    },
    {
     "cell_type": "code",
     "collapsed": false,
     "input": [
      "for name in gene_names:\n",
      "    if re.search(r'd.*e', name):\n",
      "        print '\\t' + name"
     ],
     "language": "python",
     "metadata": {},
     "outputs": [
      {
       "output_type": "stream",
       "stream": "stdout",
       "text": [
        "\tchdsye847\n",
        "\thedle3455\n",
        "\txjhd53e\n",
        "\tde37dp\n"
       ]
      }
     ],
     "prompt_number": 97
    },
    {
     "cell_type": "code",
     "collapsed": false,
     "input": [
      "for name in gene_names:\n",
      "    if re.search(r'd.e', name):\n",
      "                 print '\\t' + name"
     ],
     "language": "python",
     "metadata": {},
     "outputs": [
      {
       "output_type": "stream",
       "stream": "stdout",
       "text": [
        "\thedle3455\n"
       ]
      }
     ],
     "prompt_number": 96
    },
    {
     "cell_type": "code",
     "collapsed": false,
     "input": [
      "for name in gene_names:\n",
      "    if re.search(r'(d.*e|e.*d)', name):\n",
      "        print '\\t' + name\n",
      "    "
     ],
     "language": "python",
     "metadata": {},
     "outputs": [
      {
       "output_type": "stream",
       "stream": "stdout",
       "text": [
        "\teihd39d9\n",
        "\tchdsye847\n",
        "\thedle3455\n",
        "\txjhd53e\n",
        "\tde37dp\n"
       ]
      }
     ],
     "prompt_number": 103
    },
    {
     "cell_type": "code",
     "collapsed": false,
     "input": [
      "for name in gene_names:\n",
      "    if re.search(r'^(x|y)', name):\n",
      "        print '\\t' + name"
     ],
     "language": "python",
     "metadata": {},
     "outputs": [
      {
       "output_type": "stream",
       "stream": "stdout",
       "text": [
        "\txkn59438\n",
        "\tyhdck2\n",
        "\txjhd53e\n"
       ]
      }
     ],
     "prompt_number": 94
    },
    {
     "cell_type": "code",
     "collapsed": false,
     "input": [
      "for name in gene_names:\n",
      "    if re.search(r'^(x|y).*e$', name):\n",
      "        print '\\t' + name"
     ],
     "language": "python",
     "metadata": {},
     "outputs": [
      {
       "output_type": "stream",
       "stream": "stdout",
       "text": [
        "\txjhd53e\n"
       ]
      }
     ],
     "prompt_number": 93
    },
    {
     "cell_type": "code",
     "collapsed": false,
     "input": [
      "for name in gene_names:\n",
      "    if re.search(r'[1234567890]{3,100}', name):\n",
      "        print '\\t' + name"
     ],
     "language": "python",
     "metadata": {},
     "outputs": [
      {
       "output_type": "stream",
       "stream": "stdout",
       "text": [
        "\txkn59438\n",
        "\tchdsye847\n",
        "\thedle3455\n"
       ]
      }
     ],
     "prompt_number": 92
    },
    {
     "cell_type": "code",
     "collapsed": false,
     "input": [
      "for name in gene_names:\n",
      "    if re.search(r'\\d{3,}', name):\n",
      "        print '\\t' + name"
     ],
     "language": "python",
     "metadata": {},
     "outputs": [
      {
       "output_type": "stream",
       "stream": "stdout",
       "text": [
        "\txkn59438\n",
        "\tchdsye847\n",
        "\thedle3455\n"
       ]
      }
     ],
     "prompt_number": 104
    },
    {
     "cell_type": "code",
     "collapsed": false,
     "input": [
      "for name in gene_names:\n",
      "    if re.search(r'd[arp]$', name):\n",
      "        print '\\t' + name"
     ],
     "language": "python",
     "metadata": {},
     "outputs": [
      {
       "output_type": "stream",
       "stream": "stdout",
       "text": [
        "\t45da\n",
        "\tde37dp\n"
       ]
      }
     ],
     "prompt_number": 99
    },
    {
     "cell_type": "heading",
     "level": 4,
     "metadata": {},
     "source": [
      "Double Digest"
     ]
    },
    {
     "cell_type": "code",
     "collapsed": false,
     "input": [
      "dna = open('/Users/xousaenhelu/Documents/LLU/Grad School/Books/python_for_biologists_bundle/\\\n",
      "python_for_biologists/exercises and examples/Chapter 7/exercises/dna.txt').read().rstrip('\\n')\n",
      "dna\n",
      "print(len(dna))\n",
      "AbcI = 'A[ATGC]T*AAT'\n",
      "AbcII = 'GC[AG][AT]*TG'\n",
      "# R = A, G \n",
      "# W = A, T"
     ],
     "language": "python",
     "metadata": {},
     "outputs": [
      {
       "output_type": "stream",
       "stream": "stdout",
       "text": [
        "2012\n"
       ]
      }
     ],
     "prompt_number": 66
    },
    {
     "cell_type": "code",
     "collapsed": false,
     "input": [
      "# AbcI\n",
      "run = re.finditer(r'A[ACGT]TAAT', dna)\n",
      "all_cuts = [0]\n",
      "for match in run:\n",
      "    all_cuts.append((match.start()+3))\n",
      "\n",
      "all_cuts.append(len(dna))\n",
      "\n",
      "# AbcII\n",
      "run = re.finditer(r'GC(A|G)(A|T)TG', dna)\n",
      "for match in run:\n",
      "    all_cuts.append(match.start()+4)\n",
      "sort_cuts = (sorted(all_cuts))\n",
      "sort_cuts"
     ],
     "language": "python",
     "metadata": {},
     "outputs": [
      {
       "output_type": "stream",
       "stream": "stdout",
       "text": [
        "[0, 1143, 1628, 2012]\n"
       ]
      },
      {
       "metadata": {},
       "output_type": "pyout",
       "prompt_number": 49,
       "text": [
        "[0, 488, 1143, 1577, 1628, 2012]"
       ]
      }
     ],
     "prompt_number": 49
    },
    {
     "cell_type": "code",
     "collapsed": false,
     "input": [
      "for i in range(1,len(sort_cuts)):\n",
      "    first_spot = sort_cuts[i-1]\n",
      "    second_spot = sort_cuts[i]\n",
      "    fragment = second_spot - first_spot\n",
      "    print('Fragment lengths is ' + str(fragment))"
     ],
     "language": "python",
     "metadata": {},
     "outputs": [
      {
       "output_type": "stream",
       "stream": "stdout",
       "text": [
        "Fragment lengths is 488\n",
        "Fragment lengths is 655\n",
        "Fragment lengths is 434\n",
        "Fragment lengths is 51\n",
        "Fragment lengths is 384\n"
       ]
      }
     ],
     "prompt_number": 53
    },
    {
     "cell_type": "code",
     "collapsed": false,
     "input": [
      "fragment_list = []\n",
      "for i in range(1,len(sort_cuts)):\n",
      "    start = sort_cuts[i-1]\n",
      "    end = sort_cuts[i]\n",
      "    fragment = dna[start:end]\n",
      "    print('The fragment size is ' + str(len(fragment)))\n",
      "    fragment_list.append(fragment)\n",
      "print(fragment_list)"
     ],
     "language": "python",
     "metadata": {},
     "outputs": [
      {
       "output_type": "stream",
       "stream": "stdout",
       "text": [
        "The fragment size is 488\n",
        "The fragment size is 655\n",
        "The fragment size is 434\n",
        "The fragment size is 51\n",
        "The fragment size is 384\n",
        "['ATGGCAATAACCCCCCGTTTCTACTTCTAGAGGAGAAAAGTATTGACATGAGCGCTCCCGGCACAAGGGCCAAAGAAGTCTCCAATTTCTTATTTCCGAATGACATGCGTCTCCTTGCGGGTAAATCACCGACCGCAATTCATAGAAGCCTGGGGGAACAGATAGGTCTAATTAGCTTAAGAGAGTAAATCCTGGGATCATTCAGTAGTAACCATAAACTTACGCTGGGGCTTCTTCGGCGGATTTTTACAGTTACCAACCAGGAGATTTGAAGTAAATCAGTTGAGGATTTAGCCGCGCTATCCGGTAATCTCCAAATTAAAACATACCGTTCCATGAAGGCTAGAATTACTTACCGGCCTTTTCCATGCCTGCGCTATACCCCCCCACTCTCCCGCTTATCCGTCCGAGCGGAGGCAGTGCGATCCTCCGTTAAGATATTCTTACGTGTGACGTAGCTATGTATTTTGCAGAGCTGGCGAACGCGT', 'TGAACACTTCACAGATGGTAGGGATTCGGGTAAAGGGCGTATAATTGGGGACTAACATAGGCGTAGACTACGATGGCGCCAACTCAATCGCAGCTCGAGCGCCCTGAATAACGTACTCATCTCAACTCATTCTCGGCAATCTACCGAGCGACTCGATTATCAACGGCTGTCTAGCAGTTCTAATCTTTTGCCAGCATCGTAATAGCCTCCAAGAGATTGATGATAGCTATCGGCACAGAACTGAGACGGCGCCGATGGATAGCGGACTTTCGGTCAACCACAATTCCCCACGGGACAGGTCCTGCGGTGCGCATCACTCTGAATGTACAAGCAACCCAAGTGGGCCGAGCCTGGACTCAGCTGGTTCCTGCGTGAGCTCGAGACTCGGGATGACAGCTCTTTAAACATAGAGCGGGGGCGTCGAACGGTCGAGAAAGTCATAGTACCTCGGGTACCAACTTACTCAGGTTATTGCTTGAAGCTGTACTATTTTAGGGGGGGAGCGCTGAAGGTCTCTTCTTCTCATGACTGAACTCGCGAGGGTCGTGAAGTCGGTTCCTTCAATGGTTAAAAAACAAAGGCTTACTGTGCGCAGAGGAACGCCCATCTAGCGGCTGGCGTCTTGAATGCTCGGTCCCCTTTGTCATTCCGGATT', 'AATCCATTTCCCTCATTCACGAGCTTGCGAAGTCTACATTGGTATATGAATGCGACCTAGAAGAGGGCGCTTAAAATTGGCAGTGGTTGATGCTCTAAACTCCATTTGGTTTACTCGTGCATCACCGCGATAGGCTGACAAAGGTTTAACATTGAATAGCAAGGCACTTCCGGTCTCAATGAACGGCCGGGAAAGGTACGCGCGCGGTATGGGAGGATCAAGGGGCCAATAGAGAGGCTCCTCTCTCACTCGCTAGGAGGCAAATGTAAAACAATGGTTACTGCATCGATACATAAAACATGTCCATCGGTTGCCCAAAGTGTTAAGTGTCTATCACCCCTAGGGCCGTTTCCCGCATATAAACGCCAGGTTGTATCCGCATTTGATGCTACCGTGGATGAGTCTGCGTCGAGCGCGCCGCACGAATGTTGCAA', 'TGTATTGCATGAGTAGGGTTGACTAAGAGCCGTTAGATGCGTCGCTGTACT', 'AATAGTTGTCGACAGACCGTCGAGATTAGAAAATGGTACCAGCATTTTCGGAGGTTCTCTAACTAGTATGGATTGCGGTGTCTTCACTGTGCTGCGGCTACCCATCGCCTGAAATCCAGCTGGTGTCAAGCCATCCCCTCTCCGGGACGCCGCATGTAGTGAAACATATACGTTGCACGGGTTCACCGCGGTCCGTTCTGAGTCGACCAAGGACACAATCGAGCTCCGATCCGTACCCTCGACAAACTTGTACCCGACCCCCGGAGCTTGCCAGCTCCTCGGGTATCATGGAGCCTGTGGTTCATCGCGTCCGATATCAAACTTCGTCATGATAAAGTCCCCCCCTCGGGAGTACCAGAGAAGATGACTACTGAGTTGTGCGAT']\n"
       ]
      }
     ],
     "prompt_number": 58
    },
    {
     "cell_type": "heading",
     "level": 2,
     "metadata": {},
     "source": [
      "Chapter 8 Exercises"
     ]
    },
    {
     "cell_type": "code",
     "collapsed": false,
     "input": [
      "dna = \"AATGATGAACGAC\"\n",
      "dinucleotides = ['AA','AT','AG','AC',\n",
      "                 'TA','TT','TG','TC',\n",
      "                 'GA','GT','GG','GC',\n",
      "                 'CA','CT','CG','CT']\n",
      "all_counts = {}\n",
      "for dinucleotide in dinucleotides:\n",
      "    count = dna.count(dinucleotide)\n",
      "    if count > 0:\n",
      "        all_counts[dinucleotide] = count\n",
      "        print('The count is ' + str(count) + ' for ' + dinucleotide)\n",
      "\n",
      "print(all_counts)"
     ],
     "language": "python",
     "metadata": {},
     "outputs": [
      {
       "output_type": "stream",
       "stream": "stdout",
       "text": [
        "The count is 2 for AA\n",
        "The count is 2 for AT\n",
        "The count is 2 for AC\n",
        "The count is 2 for TG\n",
        "The count is 3 for GA\n",
        "The count is 1 for CG\n",
        "{'AA': 2, 'AC': 2, 'CG': 1, 'AT': 2, 'GA': 3, 'TG': 2}\n"
       ]
      }
     ],
     "prompt_number": 29
    },
    {
     "cell_type": "code",
     "collapsed": false,
     "input": [
      "print(\"count for TG is \" + str(all_counts.get('TG', 0)))\n",
      "print(\"count for TT is \" + str(all_counts.get('TT', 0)))\n",
      "print(\"count for GC is \" + str(all_counts.get('GC', 0)))\n",
      "print(\"count for CG is \" + str(all_counts.get('CG', 0)))"
     ],
     "language": "python",
     "metadata": {},
     "outputs": [
      {
       "output_type": "stream",
       "stream": "stdout",
       "text": [
        "count for TG is 2\n",
        "count for TT is 0\n",
        "count for GC is 0\n",
        "count for CG is 1\n"
       ]
      }
     ],
     "prompt_number": 39
    },
    {
     "cell_type": "code",
     "collapsed": false,
     "input": [
      "dna = \"AATGATGAACGAC\"\n",
      "bases = ['A', 'T', 'C', 'G']\n",
      "all_counts = {}\n",
      "\n",
      "for base1 in bases:\n",
      "    for base2 in bases:\n",
      "        dinucleotide = base1 + base2\n",
      "        count = dna.count(dinucleotide)\n",
      "        if count > 0:\n",
      "            all_counts[dinucleotide] = count\n",
      "\n",
      "print(all_counts)"
     ],
     "language": "python",
     "metadata": {},
     "outputs": [
      {
       "output_type": "stream",
       "stream": "stdout",
       "text": [
        "{'AA': 2, 'AC': 2, 'CG': 1, 'AT': 2, 'GA': 3, 'TG': 2}\n"
       ]
      }
     ],
     "prompt_number": 73
    },
    {
     "cell_type": "code",
     "collapsed": false,
     "input": [
      "for dinucleotide in all_counts.keys():\n",
      "    if all_counts[dinucleotide] >= 2:\n",
      "        print(dinucleotide)"
     ],
     "language": "python",
     "metadata": {},
     "outputs": [
      {
       "output_type": "stream",
       "stream": "stdout",
       "text": [
        "AA\n",
        "AC\n",
        "AT\n",
        "GA\n",
        "TG\n"
       ]
      }
     ],
     "prompt_number": 45
    },
    {
     "cell_type": "code",
     "collapsed": false,
     "input": [
      "for key, value in all_counts.items():\n",
      "    if value >=2:\n",
      "        print key"
     ],
     "language": "python",
     "metadata": {},
     "outputs": [
      {
       "output_type": "stream",
       "stream": "stdout",
       "text": [
        "AA\n",
        "AC\n",
        "AT\n",
        "GA\n",
        "TG\n"
       ]
      }
     ],
     "prompt_number": 54
    },
    {
     "cell_type": "heading",
     "level": 4,
     "metadata": {},
     "source": [
      "DNA Translation"
     ]
    },
    {
     "cell_type": "code",
     "collapsed": false,
     "input": [
      "gencode = {\n",
      "'ATA':'I', 'ATC':'I', 'ATT':'I', 'ATG':'M',\n",
      "'ACA':'T', 'ACC':'T', 'ACG':'T', 'ACT':'T',\n",
      "'AAC':'N', 'AAT':'N', 'AAA':'K', 'AAG':'K',\n",
      "'AGC':'S', 'AGT':'S', 'AGA':'R', 'AGG':'R',\n",
      "'CTA':'L', 'CTC':'L', 'CTG':'L', 'CTT':'L',\n",
      "'CCA':'P', 'CCC':'P', 'CCG':'P', 'CCT':'P',\n",
      "'CAC':'H', 'CAT':'H', 'CAA':'Q', 'CAG':'Q',\n",
      "'CGA':'R', 'CGC':'R', 'CGG':'R', 'CGT':'R',\n",
      "'GTA':'V', 'GTC':'V', 'GTG':'V', 'GTT':'V',\n",
      "'GCA':'A', 'GCC':'A', 'GCG':'A', 'GCT':'A',\n",
      "'GAC':'D', 'GAT':'D', 'GAA':'E', 'GAG':'E',\n",
      "'GGA':'G', 'GGC':'G', 'GGG':'G', 'GGT':'G',\n",
      "'TCA':'S', 'TCC':'S', 'TCG':'S', 'TCT':'S',\n",
      "'TTC':'F', 'TTT':'F', 'TTA':'L', 'TTG':'L',\n",
      "'TAC':'Y', 'TAT':'Y', 'TAA':'_', 'TAG':'_',\n",
      "'TGC':'C', 'TGT':'C', 'TGA':'_', 'TGG':'W'}"
     ],
     "language": "python",
     "metadata": {},
     "outputs": [],
     "prompt_number": 76
    },
    {
     "cell_type": "code",
     "collapsed": false,
     "input": [
      "dna = 'AATGATGAACGAC'\n",
      "\n",
      "def translate_dna(dna, reading_frame = 0):\n",
      "    protein = ''\n",
      "    for start in range(reading_frame,len(dna)-2,3):\n",
      "        codon = dna[start:start + 3]\n",
      "        aa = gencode.get(codon.upper(), 'X')\n",
      "        protein += aa\n",
      "    return(protein)\n",
      "translate_dna(dna)        \n"
     ],
     "language": "python",
     "metadata": {},
     "outputs": [
      {
       "metadata": {},
       "output_type": "pyout",
       "prompt_number": 128,
       "text": [
        "'NDER'"
       ]
      }
     ],
     "prompt_number": 128
    },
    {
     "cell_type": "code",
     "collapsed": false,
     "input": [
      "my_dna = open('/Users/xousaenhelu/Documents/LLU/Grad School/Books/python_for_biologists_bundle/\\\n",
      "python_for_biologists/exercises and examples/Chapter 7/exercises/dna.txt').read().rstrip('\\n')\n",
      "\n",
      "translate_dna(my_dna)"
     ],
     "language": "python",
     "metadata": {},
     "outputs": [
      {
       "metadata": {},
       "output_type": "pyout",
       "prompt_number": 129,
       "text": [
        "'MAITPRFYF_RRKVLT_ALPAQGPKKSPISYFRMTCVSLRVNHRPQFIEAWGNR_V_LA_ESKSWDHSVVTINLRWGFFGGFLQLPTRRFEVNQLRI_PRYPVISKLKHTVP_RLELLTGLFHACAIPPHSPAYPSERRQCDPPLRYSYV_RSYVFCRAGERVEHFTDGRDSGKGRIIGD_HRRRLRWRQLNRSSSALNNVLISTHSRQSTERLDYQRLSSSSNLLPAS__PPRD___LSAQN_DGADG_RTFGQPQFPTGQVLRCASL_MYKQPKWAEPGLSWFLRELETRDDSSLNIERGRRTVEKVIVPRVPTYSGYCLKLYYFRGGALKVSSSHD_TREGREVGSFNG_KTKAYCAQRNAHLAAGVLNARSPLSFRINPFPSFTSLRSLHWYMNAT_KRALKIGSG_CSKLHLVYSCITAIG_QRFNIE_QGTSGLNERPGKVRARYGRIKGPIERLLSHSLGGKCKTMVTASIHKTCPSVAQSVKCLSPLGPFPAYKRQVVSAFDATVDESASSAPHECCNVLHE_G_LRAVRCVAVLIVVDRPSRLENGTSIFGGSLTSMDCGVFTVLRLPIA_NPAGVKPSPLRDAACSETYTLHGFTAVRSESTKDTIELRSVPSTNLYPTPGACQLLGYHGACGSSRPISNFVMIKSPPREYQRR_LLSCA'"
       ]
      }
     ],
     "prompt_number": 129
    },
    {
     "cell_type": "code",
     "collapsed": false,
     "input": [
      "translate_dna(my_dna, 1)"
     ],
     "language": "python",
     "metadata": {},
     "outputs": [
      {
       "metadata": {},
       "output_type": "pyout",
       "prompt_number": 117,
       "text": [
        "'WQ_PPVSTSRGEKY_HERSRHKGQRSLQFLISE_HASPCG_ITDRNS_KPGGTDRSN_LKRVNPGIIQ__P_TYAGASSADFYSYQPGDLK_IS_GFSRAIR_SPN_NIPFHEG_NYLPAFSMPALYPPTLPLIRPSGGSAILR_DILTCDVAMYFAELANALNTSQMVGIRVKGV_LGTNIGVDYDGANSIAARAP_ITYSSQLILGNLPSDSIINGCLAVLIFCQHRNSLQEIDDSYRHRTETAPMDSGLSVNHNSPRDRSCGAHHSECTSNPSGPSLDSAGSCVSSRLGMTAL_T_SGGVERSRKS_YLGYQLTQVIA_SCTILGGER_RSLLLMTELARVVKSVPSMVKKQRLTVRRGTPI_RLAS_MLGPLCHSGLIHFPHSRACEVYIGI_MRPRRGRLKLAVVDALNSIWFTRASPR_ADKGLTLNSKALPVSMNGRERYARGMGGSRGQ_RGSSLTR_EANVKQWLLHRYIKHVHRLPKVLSVYHP_GRFPHINARLYPHLMLPWMSLRRARRTNVAMYCMSRVD_EPLDASLY__LSTDRRD_KMVPAFSEVL_LVWIAVSSLCCGYPSPEIQLVSSHPLSGTPHVVKHIRCTGSPRSVLSRPRTQSSSDPYPRQTCTRPPELASSSGIMEPVVHRVRYQTSS__SPPLGSTREDDY_VVR'"
       ]
      }
     ],
     "prompt_number": 117
    },
    {
     "cell_type": "code",
     "collapsed": false,
     "input": [
      "translate_dna(my_dna, 2)"
     ],
     "language": "python",
     "metadata": {},
     "outputs": [
      {
       "metadata": {},
       "output_type": "pyout",
       "prompt_number": 118,
       "text": [
        "'GNNPPFLLLEEKSIDMSAPGTRAKEVSNFLFPNDMRLLAGKSPTAIHRSLGEQIGLISLRE_ILGSFSSNHKLTLGLLRRIFTVTNQEI_SKSVEDLAALSGNLQIKTYRSMKARITYRPFPCLRYTPPLSRLSVRAEAVRSSVKIFLRVT_LCILQSWRTR_TLHRW_GFG_RAYNWGLT_A_TTMAPTQSQLERPE_RTHLNSFSAIYRATRLSTAV_QF_SFASIVIASKRLMIAIGTELRRRRWIADFRSTTIPHGTGPAVRITLNVQATQVGRAWTQLVPA_ARDSG_QLFKHRAGASNGRESHSTSGTNLLRLLLEAVLF_GGSAEGLFFS_LNSRGS_SRFLQWLKNKGLLCAEERPSSGWRLECSVPFVIPD_SISLIHELAKSTLVYECDLEEGA_NWQWLML_TPFGLLVHHRDRLTKV_H_IARHFRSQ_TAGKGTRAVWEDQGANREAPLSLARRQM_NNGYCIDT_NMSIGCPKC_VSITPRAVSRI_TPGCIRI_CYRG_VCVERAARMLQCIA_VGLTKSR_MRRCTNSCRQTVEIRKWYQHFRRFSN_YGLRCLHCAAATHRLKSSWCQAIPSPGRRM__NIYVARVHRGPF_VDQGHNRAPIRTLDKLVPDPRSLPAPRVSWSLWFIASDIKLRHDKVPPSGVPEKMTTELCD'"
       ]
      }
     ],
     "prompt_number": 118
    },
    {
     "cell_type": "code",
     "collapsed": false,
     "input": [
      "assert(translate_dna(\"ATGTTCGGT\")) == 'MFG'\n",
      "assert(translate_dna(\"ATCGATCGATCGTTGCTTATCGATCAG\")) == 'IDRSLLIDQ'\n",
      "assert(translate_dna(\"actgatcgtagcttgcttacgtatcgtat\")) == 'TDRSLLTYR'\n",
      "assert(translate_dna(\"ACGATCGATCGTNACGTACGATCGTACTCG\")) == 'TIDRXVRSYS'"
     ],
     "language": "python",
     "metadata": {},
     "outputs": [],
     "prompt_number": 123
    },
    {
     "cell_type": "code",
     "collapsed": false,
     "input": [],
     "language": "python",
     "metadata": {},
     "outputs": []
    }
   ],
   "metadata": {}
  }
 ]
}